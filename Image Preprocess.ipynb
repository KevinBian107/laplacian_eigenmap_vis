{
 "cells": [
  {
   "cell_type": "code",
   "execution_count": null,
   "id": "d7357b8f",
   "metadata": {},
   "outputs": [],
   "source": [
    "#pip install cloudinary"
   ]
  },
  {
   "cell_type": "markdown",
   "id": "632e0f0c",
   "metadata": {},
   "source": [
    "## Solution 1: Upload jpg file to cloudinary "
   ]
  },
  {
   "cell_type": "markdown",
   "id": "9c824c10",
   "metadata": {},
   "source": [
    "Current Approach"
   ]
  },
  {
   "cell_type": "code",
   "execution_count": 10,
   "id": "a28f8c73",
   "metadata": {},
   "outputs": [],
   "source": [
    "import os\n",
    "import cloudinary.uploader\n",
    "\n",
    "import numpy as np\n",
    "import json"
   ]
  },
  {
   "cell_type": "code",
   "execution_count": null,
   "id": "53d6fc40",
   "metadata": {},
   "outputs": [],
   "source": [
    "# setup cloudinary"
   ]
  },
  {
   "cell_type": "code",
   "execution_count": null,
   "id": "c57f73de",
   "metadata": {},
   "outputs": [],
   "source": [
    "np.random.seed(10)\n",
    "num_imgs_upload = 1000\n",
    "random_numbers = np.random.randint(0, 33502, 10)"
   ]
  },
  {
   "cell_type": "code",
   "execution_count": null,
   "id": "a9ecfbd8",
   "metadata": {},
   "outputs": [],
   "source": [
    "def uploadImage(local_path, id):\n",
    "    cloudinary.uploader.upload(local_path,\n",
    "                               folder='DSC106 MET Images',\n",
    "                               public_id=id)\n",
    "\n",
    "def get_image_data(root_folder):\n",
    "    image_paths = []\n",
    "    path_base = 'https://res.cloudinary.com/duyoevfl6/image/upload/DSC106%20MET%20Images/'\n",
    "    i = 0\n",
    "    for subdir, _, files in os.walk(root_folder):\n",
    "        # only takes the first image file in each subdire folder\n",
    "        img_file = files[0]\n",
    "        if img_file.lower().endswith(('.jpg')):  # checking the extension of the files\n",
    "\n",
    "            image_path = os.path.join(subdir, img_file)\n",
    "            id = subdir[subdir.rfind('/')+1:]\n",
    "\n",
    "            uploadImage(image_path, id)\n",
    "            img_path = {'id': id, 'path': path_base + id + '.jpg'}\n",
    "\n",
    "            image_paths.append(img_path)\n",
    "\n",
    "            # only upload 20 images\n",
    "            i+=1\n",
    "            if i > 19:\n",
    "                return image_paths\n",
    "    return 1\n",
    "\n",
    "image_directory = 'data/MET'\n",
    "img_path_data = get_image_data(image_directory)"
   ]
  },
  {
   "cell_type": "code",
   "execution_count": null,
   "id": "e1a6e41e",
   "metadata": {},
   "outputs": [],
   "source": [
    "# with open('small_img_data.json', 'w') as json_file:\n",
    "#     json.dump(img_path_data, json_file)"
   ]
  },
  {
   "cell_type": "code",
   "execution_count": null,
   "id": "a147cbdb",
   "metadata": {},
   "outputs": [],
   "source": []
  },
  {
   "cell_type": "markdown",
   "id": "db26f7c5",
   "metadata": {},
   "source": [
    "## Solution 2: Convert jpg file to svg file"
   ]
  },
  {
   "cell_type": "markdown",
   "id": "ea848472",
   "metadata": {},
   "source": [
    "Does not work as intended -> file size does not decrease"
   ]
  },
  {
   "cell_type": "code",
   "execution_count": 23,
   "id": "5512fbe3",
   "metadata": {},
   "outputs": [],
   "source": [
    "import cv2\n",
    "import numpy as np\n",
    "import svgwrite\n",
    "\n",
    "# def convert_jpg_to_svg(jpg_path, svg_path):\n",
    "#     # Read the image\n",
    "#     img = cv2.imread(jpg_path, cv2.IMREAD_GRAYSCALE)\n",
    "    \n",
    "#     # Threshold the image to create a binary image\n",
    "#     _, binary = cv2.threshold(img, 128, 255, cv2.THRESH_BINARY)\n",
    "\n",
    "#     # Find contours\n",
    "#     contours, _ = cv2.findContours(binary, cv2.RETR_TREE, cv2.CHAIN_APPROX_SIMPLE)\n",
    "\n",
    "#     # Create an SVG drawing\n",
    "#     dwg = svgwrite.Drawing(svg_path, profile='tiny')\n",
    "\n",
    "#     # Add contours to the SVG drawing\n",
    "#     for contour in contours:\n",
    "#         path_data = \"M \" + \" L \".join(f\"{pt[0][0]},{pt[0][1]}\" for pt in contour) + \" Z\"\n",
    "#         dwg.add(dwg.path(d=path_data, fill='none', stroke='black'))\n",
    "\n",
    "#     # Save the SVG file\n",
    "#     dwg.save()\n",
    "\n",
    "def convert_color_jpg_to_svg(jpg_path, svg_path):\n",
    "    # Read the image in color\n",
    "    img = cv2.imread(jpg_path)\n",
    "\n",
    "    # Convert the image to RGB (OpenCV loads images in BGR by default)\n",
    "    img = cv2.cvtColor(img, cv2.COLOR_BGR2RGB)\n",
    "\n",
    "    # Apply Gaussian Blur to reduce noise and smooth the image\n",
    "    img_blur = cv2.GaussianBlur(img, (5, 5), 0)\n",
    "\n",
    "    # Convert the image to a binary image\n",
    "    gray = cv2.cvtColor(img_blur, cv2.COLOR_RGB2GRAY)\n",
    "    _, binary = cv2.threshold(gray, 128, 255, cv2.THRESH_BINARY)\n",
    "\n",
    "    # Find contours\n",
    "    contours, _ = cv2.findContours(binary, cv2.RETR_EXTERNAL, cv2.CHAIN_APPROX_SIMPLE)\n",
    "\n",
    "    # Create an SVG drawing\n",
    "    dwg = svgwrite.Drawing(svg_path, profile='tiny')\n",
    "\n",
    "    # Add contours to the SVG drawing\n",
    "    for contour in contours:\n",
    "        # Create a mask for each contour\n",
    "        mask = np.zeros_like(img)\n",
    "        cv2.drawContours(mask, [contour], -1, (255, 255, 255), thickness=cv2.FILLED)\n",
    "\n",
    "        # Extract the color within the contour from the original image\n",
    "        color = cv2.mean(img, mask=mask[:,:,0])[:3]  # Get the RGB color\n",
    "\n",
    "        # Convert the contour to a path string\n",
    "        path_data = \"M \" + \" L \".join(f\"{pt[0][0]},{pt[0][1]}\" for pt in contour) + \" Z\"\n",
    "\n",
    "        # Add the path to the SVG drawing with the extracted color\n",
    "        dwg.add(dwg.path(d=path_data, fill=svgwrite.rgb(color[0], color[1], color[2]), stroke='none'))\n",
    "\n",
    "    # Save the SVG file\n",
    "    dwg.save()"
   ]
  },
  {
   "cell_type": "code",
   "execution_count": 24,
   "id": "83a83bd9",
   "metadata": {},
   "outputs": [
    {
     "name": "stdout",
     "output_type": "stream",
     "text": [
      "data/MET/390655/1.jpg\n"
     ]
    }
   ],
   "source": [
    "def get_image_data(root_folder):\n",
    "    image_paths = []\n",
    "\n",
    "    i = 0\n",
    "    for subdir, _, files in os.walk(root_folder):\n",
    "        # only takes the first image file in each subdire folder\n",
    "        img_file = files[0]\n",
    "        if img_file.lower().endswith(('.jpg')):  # checking the extension of the files\n",
    "\n",
    "            image_path = os.path.join(subdir, img_file)\n",
    "            \n",
    "            convert_jpg_to_svg(image_path, 'test.svg')\n",
    "\n",
    "            # only upload 20 images\n",
    "            i+=1\n",
    "            if i > 0:\n",
    "                return image_paths\n",
    "    return 1\n",
    "\n",
    "image_directory = 'data/MET'\n",
    "# img_path_data = get_image_data(image_directory)"
   ]
  },
  {
   "cell_type": "code",
   "execution_count": null,
   "id": "4f62a32d",
   "metadata": {},
   "outputs": [],
   "source": [
    "# from PIL import Image\n",
    "# import svgwrite\n",
    "\n",
    "# def convert_jpg_to_svg(jpg_path, svg_path):\n",
    "#     # Open the image and convert it to grayscale\n",
    "#     image = Image.open(jpg_path).convert('L')\n",
    "    \n",
    "#     # Threshold the image to make it binary (black and white)\n",
    "#     threshold = 128\n",
    "#     image = image.point(lambda p: p > threshold and 255)\n",
    "#     image = image.convert('1')\n",
    "    \n",
    "#     # Create a bitmap from the image\n",
    "#     bitmap = potrace.Bitmap(image)\n",
    "    \n",
    "#     # Trace the bitmap to a path\n",
    "#     path = bitmap.trace()\n",
    "    \n",
    "#     # Create an SVG drawing\n",
    "#     dwg = svgwrite.Drawing(svg_path, profile='tiny')\n",
    "    \n",
    "#     # Add paths to the SVG drawing\n",
    "#     for curve in path:\n",
    "#         start_point = curve.start_point\n",
    "#         d = f'M {start_point.x} {start_point.y} '\n",
    "#         for segment in curve:\n",
    "#             if segment.is_corner:\n",
    "#                 d += f'L {segment.c.x} {segment.c.y} '\n",
    "#             else:\n",
    "#                 d += f'C {segment.c1.x} {segment.c1.y} {segment.c2.x} {segment.c2.y} {segment.end_point.x} {segment.end_point.y} '\n",
    "#         d += 'Z'\n",
    "#         dwg.add(dwg.path(d, fill='black'))\n",
    "    \n",
    "#     # Save the SVG file\n",
    "#     dwg.save()\n",
    "\n",
    "# # Convert the JPG to SVG\n",
    "# convert_jpg_to_svg('input.jpg', 'output.svg')"
   ]
  },
  {
   "cell_type": "code",
   "execution_count": null,
   "id": "6f2ad8e0",
   "metadata": {},
   "outputs": [],
   "source": []
  },
  {
   "cell_type": "code",
   "execution_count": null,
   "id": "b684fcaf",
   "metadata": {},
   "outputs": [],
   "source": []
  },
  {
   "cell_type": "code",
   "execution_count": null,
   "id": "49f9a83a",
   "metadata": {},
   "outputs": [],
   "source": []
  },
  {
   "cell_type": "code",
   "execution_count": null,
   "id": "1aced964",
   "metadata": {},
   "outputs": [],
   "source": []
  }
 ],
 "metadata": {
  "kernelspec": {
   "display_name": "Python 3 (ipykernel)",
   "language": "python",
   "name": "python3"
  },
  "language_info": {
   "codemirror_mode": {
    "name": "ipython",
    "version": 3
   },
   "file_extension": ".py",
   "mimetype": "text/x-python",
   "name": "python",
   "nbconvert_exporter": "python",
   "pygments_lexer": "ipython3",
   "version": "3.8.18"
  }
 },
 "nbformat": 4,
 "nbformat_minor": 5
}
