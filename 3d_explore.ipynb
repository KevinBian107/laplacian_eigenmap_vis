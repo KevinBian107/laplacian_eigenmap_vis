{
 "cells": [
  {
   "cell_type": "code",
   "execution_count": 1,
   "metadata": {},
   "outputs": [],
   "source": [
    "%load_ext autoreload\n",
    "%autoreload 2\n",
    "from dimension_reduction import *"
   ]
  },
  {
   "cell_type": "code",
   "execution_count": 2,
   "metadata": {},
   "outputs": [],
   "source": [
    "# takes about 3.5m to run this\n",
    "root_folder = 'data/MET'\n",
    "images_array = load_images_from_folders(root_folder)\n",
    "images_array_grey = load_images_from_folders(root_folder, mode='L')\n",
    "flattened_grey = np.array([image.flatten() for image in images_array_grey])\n",
    "flattened_color = np.array([image.flatten() for image in images_array])"
   ]
  },
  {
   "cell_type": "code",
   "execution_count": 3,
   "metadata": {},
   "outputs": [],
   "source": [
    "import plotly.graph_objects as go\n",
    "import numpy as np\n",
    "from sklearn.preprocessing import StandardScaler\n",
    "from sklearn.neighbors import kneighbors_graph\n",
    "from scipy.linalg import eigh\n",
    "\n",
    "def laplacian_eigenmap_3d_plotly(data, k, image_urls):\n",
    "    # Standardize data set\n",
    "    scaler = StandardScaler()\n",
    "    X = scaler.fit_transform(data)\n",
    "\n",
    "    # Create adjacency matrix and make it symmetric\n",
    "    adj_directed = kneighbors_graph(X, k, mode='connectivity', include_self=True).toarray()\n",
    "    W = np.maximum(adj_directed, adj_directed.T)\n",
    "\n",
    "    # Calculate Diagonal and Laplacian Matrix\n",
    "    W_sum = np.sum(W, axis=1)\n",
    "    D = np.diag(W_sum)\n",
    "    L = D - W\n",
    "\n",
    "    # Calculate the bottom 3 eigenvectors\n",
    "    eigenvalues, eigenvectors = eigh(L)\n",
    "    sorted_indices = np.argsort(eigenvalues)\n",
    "    eigenvectors = eigenvectors[:, sorted_indices]\n",
    "    bottom_3_eigenvectors = eigenvectors[:,1:4]\n",
    "\n",
    "    # Plotting\n",
    "    fig = go.Figure(data=[go.Scatter3d(\n",
    "        x=bottom_3_eigenvectors[:,0],\n",
    "        y=bottom_3_eigenvectors[:,1],\n",
    "        z=bottom_3_eigenvectors[:,2],\n",
    "        mode='markers',\n",
    "        marker=dict(size=5, color='blue'),\n",
    "        text=image_urls,  # Assuming image_urls are directly viewable\n",
    "        hoverinfo='text'\n",
    "    )])\n",
    "\n",
    "    fig.update_layout(\n",
    "        title=f'Scatter Plot of Bottom 3 Eigenvectors With k={k} and Sample Size = {data.shape[0]}',\n",
    "        scene=dict(\n",
    "            xaxis_title='First Bottom Eigenvector',\n",
    "            yaxis_title='Second Bottom Eigenvector',\n",
    "            zaxis_title='Third Bottom Eigenvector'\n",
    "        )\n",
    "    )\n",
    "    \n",
    "    return fig\n"
   ]
  },
  {
   "cell_type": "code",
   "execution_count": null,
   "metadata": {},
   "outputs": [],
   "source": []
  }
 ],
 "metadata": {
  "kernelspec": {
   "display_name": "dsc80",
   "language": "python",
   "name": "python3"
  },
  "language_info": {
   "codemirror_mode": {
    "name": "ipython",
    "version": 3
   },
   "file_extension": ".py",
   "mimetype": "text/x-python",
   "name": "python",
   "nbconvert_exporter": "python",
   "pygments_lexer": "ipython3",
   "version": "3.8.18"
  }
 },
 "nbformat": 4,
 "nbformat_minor": 2
}
