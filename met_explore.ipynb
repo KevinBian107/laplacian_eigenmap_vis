{
 "cells": [
  {
   "cell_type": "markdown",
   "metadata": {},
   "source": [
    "# Real Demo With MET Dataset\n",
    "\n",
    "Smaller version (3GB) containing a subset of the ./MET folder\n",
    "\n",
    "https://www.kaggle.com/datasets/dschettler8845/the-met-dataset?select=small_MET"
   ]
  },
  {
   "cell_type": "code",
   "execution_count": 2,
   "metadata": {},
   "outputs": [],
   "source": [
    "%load_ext autoreload\n",
    "%autoreload 2\n",
    "from dimension_reduction import *"
   ]
  },
  {
   "cell_type": "code",
   "execution_count": 5,
   "metadata": {},
   "outputs": [],
   "source": [
    "import os\n",
    "import numpy as np\n",
    "from PIL import Image\n",
    "\n",
    "def load_images_from_folders(root_folder, size=(128, 128), mode='RGB'):\n",
    "    image_data = []\n",
    "    for subdir, dirs, files in os.walk(root_folder):\n",
    "        for file in files:\n",
    "            if file.lower().endswith(('.png', '.jpg', '.jpeg')):  # checking the extension of the files\n",
    "                image_path = os.path.join(subdir, file)\n",
    "                with Image.open(image_path) as img:\n",
    "                    img = img.convert(mode)  # Convert image to RGB or grayscale\n",
    "                    img = img.resize(size)  # Resize image to desired size\n",
    "                    image_data.append(np.array(img))  # Append image array to list\n",
    "\n",
    "    return np.array(image_data)  # Convert list of arrays to a single 3D NumPy array\n",
    "\n",
    "root_folder = 'data/MET'  # Replace with the path to your directory\n",
    "images_array = load_images_from_folders(root_folder)\n",
    "print(images_array.shape)  # Prints the shape of the array, e.g., (num_images, height, width, channels)"
   ]
  }
 ],
 "metadata": {
  "kernelspec": {
   "display_name": "dsc80",
   "language": "python",
   "name": "python3"
  },
  "language_info": {
   "codemirror_mode": {
    "name": "ipython",
    "version": 3
   },
   "file_extension": ".py",
   "mimetype": "text/x-python",
   "name": "python",
   "nbconvert_exporter": "python",
   "pygments_lexer": "ipython3",
   "version": "3.8.18"
  }
 },
 "nbformat": 4,
 "nbformat_minor": 2
}
